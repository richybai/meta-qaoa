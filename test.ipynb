{
 "cells": [
  {
   "cell_type": "code",
   "execution_count": 2,
   "metadata": {},
   "outputs": [],
   "source": [
    "import networkx as nx\n",
    "import numpy as np\n",
    "from src.metaqaoa import gene_qaoa_ansatz, gene_random_instance, gene_qaoa_layers, gene_ham, MetaQAOA\n",
    "import mindspore as ms\n",
    "from mindspore import Tensor, nn, ops\n",
    "ms.context.set_context(mode=ms.context.PYNATIVE_MODE, device_target=\"CPU\")"
   ]
  },
  {
   "cell_type": "code",
   "execution_count": 3,
   "metadata": {},
   "outputs": [
    {
     "data": {
      "image/png": "[encoded data removed]",
      "text/plain": [
       "<Figure size 432x288 with 1 Axes>"
      ]
     },
     "metadata": {},
     "output_type": "display_data"
    }
   ],
   "source": [
    "P = 10\n",
    "g = gene_random_instance(6)\n",
    "nx.draw(g, with_labels=True, font_weight='bold')"
   ]
  },
  {
   "cell_type": "code",
   "execution_count": 7,
   "metadata": {},
   "outputs": [
    {
     "data": {
      "text/plain": [
       "[]"
      ]
     },
     "execution_count": 7,
     "metadata": {},
     "output_type": "execute_result"
    }
   ],
   "source": [
    "QNN = gene_qaoa_layers(g, P)\n",
    "# opti = nn.Adam(QNN.trainable_params(), learning_rate=0.05)     # 设置针对网络中所有可训练参数、学习率为0.05的Adam优化器\n",
    "# train_net = nn.TrainOneStepCell(QNN, opti)\n",
    "# for i in range(20):\n",
    "#     cut = (len(g.edges) - train_net()) / 2      # 将神经网络训练一步并计算得到的结果（切割边数）。注意：每当'train_net()'运行一次，神经网络就训练了一步\n",
    "#     # if i%10 == 0:\n",
    "#     print(\"train step:\", i, \", cut:\", cut)\n",
    "QNN.trainable_params()"
   ]
  },
  {
   "cell_type": "code",
   "execution_count": 5,
   "metadata": {},
   "outputs": [
    {
     "name": "stdout",
     "output_type": "stream",
     "text": [
      "5\n"
     ]
    }
   ],
   "source": [
    "cuts = []\n",
    "for i in g.nodes:\n",
    "    # print('one size:', [i], 'cut=', nx.cut_size(g, [i]))           # 一组1个节点、另一组4个节点的所有情况\n",
    "    cuts.append(nx.cut_size(g, [i]))\n",
    "    for j in range(i):\n",
    "        # print('one size:', [i, j], 'cut=', nx.cut_size(g, [i, j]))  # 一组2个节点、另一组3个节点的所有情况\n",
    "        cuts.append(nx.cut_size(g, [i, j]))\n",
    "\n",
    "        for k in range(j):\n",
    "            # print('one size:', [i, j, k], 'cut=', nx.cut_size(g, [i, j, k]))  # 一组2个节点、另一组3个节点的所有情况\n",
    "            cuts.append(nx.cut_size(g, [i, j, k]))\n",
    "print(max(cuts))\n"
   ]
  },
  {
   "cell_type": "code",
   "execution_count": 6,
   "metadata": {},
   "outputs": [
    {
     "name": "stdout",
     "output_type": "stream",
     "text": [
      "MetaQAOA<\n",
      "  (lstm): LSTM<\n",
      "    (rnn): _DynamicLSTMCPUGPU<>\n",
      "    (reverse): _Reverse<>\n",
      "    (reverse_sequence): _ReverseSequence<>\n",
      "    (dropout_op): Dropout<keep_prob=1.0>\n",
      "    >\n",
      "  >\n"
     ]
    },
    {
     "data": {
      "text/plain": [
       "[Parameter (name=lstm.weight_ih_l0, shape=(4, 1), dtype=Float32, requires_grad=True),\n",
       " Parameter (name=lstm.weight_hh_l0, shape=(4, 1), dtype=Float32, requires_grad=True),\n",
       " Parameter (name=lstm.bias_ih_l0, shape=(4,), dtype=Float32, requires_grad=True),\n",
       " Parameter (name=lstm.bias_hh_l0, shape=(4,), dtype=Float32, requires_grad=True)]"
      ]
     },
     "execution_count": 6,
     "metadata": {},
     "output_type": "execute_result"
    }
   ],
   "source": [
    "metaqaoa = MetaQAOA(5)\n",
    "print(metaqaoa)\n",
    "metaqaoa.trainable_params()"
   ]
  },
  {
   "cell_type": "code",
   "execution_count": 7,
   "metadata": {},
   "outputs": [],
   "source": [
    "theta = Tensor(np.ones([1, 2*P, 1]).astype(np.float32))\n",
    "h = Tensor(np.zeros([1, 1, 1]).astype(np.float32))\n",
    "y = Tensor(np.zeros([1, 1, 1]).astype(np.float32))\n",
    "\n",
    "theta_list, y_list = metaqaoa(theta, h, y, QNN)"
   ]
  },
  {
   "cell_type": "code",
   "execution_count": 8,
   "metadata": {},
   "outputs": [
    {
     "data": {
      "text/plain": [
       "[(1, 20, 1), (1, 20, 1), (1, 20, 1), (1, 20, 1), (1, 20, 1)]"
      ]
     },
     "execution_count": 8,
     "metadata": {},
     "output_type": "execute_result"
    }
   ],
   "source": [
    "[t.shape for t in theta_list]"
   ]
  },
  {
   "cell_type": "code",
   "execution_count": 9,
   "metadata": {},
   "outputs": [
    {
     "data": {
      "text/plain": [
       "[Tensor(shape=[], dtype=Float32, value= 0),\n",
       " Tensor(shape=[], dtype=Float32, value= 0.294539),\n",
       " Tensor(shape=[], dtype=Float32, value= 0.041171),\n",
       " Tensor(shape=[], dtype=Float32, value= -0.281689),\n",
       " Tensor(shape=[], dtype=Float32, value= 0.252002),\n",
       " Tensor(shape=[], dtype=Float32, value= -0.160262)]"
      ]
     },
     "execution_count": 9,
     "metadata": {},
     "output_type": "execute_result"
    }
   ],
   "source": [
    "y_list"
   ]
  },
  {
   "cell_type": "code",
   "execution_count": 12,
   "metadata": {},
   "outputs": [
    {
     "data": {
      "text/plain": [
       "[Tensor(shape=[1], dtype=Int64, value= [1])]"
      ]
     },
     "execution_count": 12,
     "metadata": {},
     "output_type": "execute_result"
    }
   ],
   "source": [
    "a = Tensor(np.array([1]))\n",
    "b = Tensor(np.array([-1]))\n",
    "minx = a\n",
    "t = [minx]\n",
    "if a > b:\n",
    "    minx = b\n",
    "t"
   ]
  },
  {
   "cell_type": "code",
   "execution_count": 1,
   "metadata": {},
   "outputs": [
    {
     "ename": "NameError",
     "evalue": "name 'metaqaoa' is not defined",
     "output_type": "error",
     "traceback": [
      "\u001b[0;31m---------------------------------------------------------------------------\u001b[0m",
      "\u001b[0;31mNameError\u001b[0m                                 Traceback (most recent call last)",
      "\u001b[1;32m/home/qbai/MetaQAOA/test.ipynb Cell 10\u001b[0m in \u001b[0;36m<cell line: 1>\u001b[0;34m()\u001b[0m\n\u001b[0;32m----> <a href='vscode-notebook-cell://ssh-remote%2B118.31.54.221/home/qbai/MetaQAOA/test.ipynb#X13sdnNjb2RlLXJlbW90ZQ%3D%3D?line=0'>1</a>\u001b[0m metaqaoa\u001b[39m.\u001b[39mtrainable_params()\n",
      "\u001b[0;31mNameError\u001b[0m: name 'metaqaoa' is not defined"
     ]
    }
   ],
   "source": [
    "metaqaoa.trainable_params()"
   ]
  },
  {
   "cell_type": "code",
   "execution_count": 9,
   "metadata": {},
   "outputs": [
    {
     "data": {
      "text/plain": [
       "(array([[0.0978434 +0.j],\n",
       "        [0.27219214+0.j]]),\n",
       " array([[[ 0.97517033+0.j, -0.01983384+0.j]],\n",
       " \n",
       "        [[ 0.87992318+0.j, -0.11508099+0.j]]]))"
      ]
     },
     "execution_count": 9,
     "metadata": {},
     "output_type": "execute_result"
    }
   ],
   "source": [
    "import numpy as np\n",
    "import mindspore as ms\n",
    "from mindquantum.core.circuit import Circuit\n",
    "from mindquantum.core.operators import Hamiltonian, QubitOperator\n",
    "from mindquantum.framework import MQEncoderOnlyOps\n",
    "from mindquantum.simulator import Simulator\n",
    "ms.context.set_context(mode=ms.context.PYNATIVE_MODE, device_target=\"CPU\")\n",
    "circ = Circuit().ry('a', 0).h(0).rx('b', 0).as_encoder()\n",
    "ham = Hamiltonian(QubitOperator('Z0'))\n",
    "sim = Simulator('projectq', 1)\n",
    "grad_ops = sim.get_expectation_with_grad(ham, circ)\n",
    "data = np.array([[0.1, 0.2], [0.3, 0.4]])\n",
    "f, g = grad_ops(data)\n",
    "f, g\n",
    "\n",
    "\n",
    "# net = MQEncoderOnlyOps(grad_ops)\n",
    "# f_ms = net(ms.Tensor(data))\n",
    "# f_ms\n",
    "\n",
    "\n",
    "\n"
   ]
  },
  {
   "cell_type": "code",
   "execution_count": null,
   "metadata": {},
   "outputs": [],
   "source": []
  }
 ],
 "metadata": {
  "kernelspec": {
   "display_name": "Python 3.9.12 ('mindspore-gpu')",
   "language": "python",
   "name": "python3"
  },
  "language_info": {
   "codemirror_mode": {
    "name": "ipython",
    "version": 3
   },
   "file_extension": ".py",
   "mimetype": "text/x-python",
   "name": "python",
   "nbconvert_exporter": "python",
   "pygments_lexer": "ipython3",
   "version": "3.9.12"
  },
  "orig_nbformat": 4,
  "vscode": {
   "interpreter": {
    "hash": "8f6d0137560e0f7dd82b5ec1478f54c132fecab6f5d7ca0f3e9a47d7e49d1ab3"
   }
  }
 },
 "nbformat": 4,
 "nbformat_minor": 2
}
